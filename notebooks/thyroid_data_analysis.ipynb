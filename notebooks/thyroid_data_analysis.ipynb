# Cell 1: Load Data
import pandas as pd
df = pd.read_csv('../data/thyroid_data.csv')
df.head()

# Cell 2: Basic Data Cleaning
df = df.dropna(subset=['Diagnosis'])
df.fillna(df.median(), inplace=True)
df.fillna(df.mode().iloc[0], inplace=True)
df.head()

# Cell 3: Exploratory Data Analysis (EDA)
df.describe()

df['Diagnosis'].value_counts().plot(kind='bar')

# Cell 4: Visualizations
import matplotlib.pyplot as plt
plt.scatter(df['Age'], df['TSH'])
plt.xlabel('Age')
plt.ylabel('TSH Level')
plt.title('Age vs TSH Level')
plt.show()

